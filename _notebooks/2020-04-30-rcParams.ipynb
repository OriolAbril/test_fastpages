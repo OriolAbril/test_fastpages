{
 "cells": [
  {
   "cell_type": "markdown",
   "metadata": {},
   "source": [
    "# \"ArviZ customization with rcParams\"\n",
    "> \"Use ArviZ rcParams to get sensible defaults right out of the box\"\n",
    "\n",
    "- toc: true\n",
    "- author: Oriol Abril\n",
    "- badges: true\n",
    "- categories: [arviz, customization, rcparams]"
   ]
  },
  {
   "cell_type": "markdown",
   "metadata": {},
   "source": [
    "Comments are not enabled for the blog, to inquiry further about the contents of the post, ask on [ArviZ Issues](https://github.com/arviz-devs/arviz/issues) or [PyMC Discourse](https://discourse.pymc.io/)"
   ]
  },
  {
   "cell_type": "markdown",
   "metadata": {},
   "source": [
    "# About\n",
    "ArviZ not only builds on top of matplotlib's `rcParams` but also adds its own rcParams instance to handle specific settings. This post will only graze matplotlib's rcParams, which are already detailed in [matplotlib's docs](https://matplotlib.org/1.4.1/users/customizing.html); it will dive into specific ArviZ rcParams."
   ]
  },
  {
   "cell_type": "markdown",
   "metadata": {},
   "source": [
    "# Introduction\n",
    "Paraphrasing the description on rcParams in the documentation of matplotlib:\n",
    "\n",
    "> ArviZ uses arvizrc configuration files to customize all kinds of properties, which we call rcParams. You can control the defaults of many properties in ArviZ: data loading mode (lazy or eager), automatically showing generated plots, the default information criteria and so on.\n",
    "\n",
    "There are several ways of modifying `arviz.rcParams` instance, each of them targeted to specific needs."
   ]
  },
  {
   "cell_type": "markdown",
   "metadata": {},
   "source": [
    "# Customizing ArviZ"
   ]
  },
  {
   "cell_type": "markdown",
   "metadata": {},
   "source": [
    "## arvizrc file\n",
    "To define default values on a per user or per project basis, `arvizrc` file should be used. When imported, ArviZ search for an `arvizrc` file in several locations sorted below by priority:\n",
    "- `$PWD/arvizrc`\n",
    "- `$ARVIZ_DATA/arvizrc`\n",
    "- On Linux,\n",
    "  - `$XDG_CONFIG_HOME/arviz/arvizrc` (if `$XDG_CONFIG_HOME`\n",
    "  is defined)\n",
    "  - or `$HOME/.config/arviz/arvizrc` (if `$XDG_CONFIG_HOME`\n",
    "  is not defined)\n",
    "- On other platforms,\n",
    "  - `$HOME/.arviz/arvizrc` if `$HOME` is defined\n",
    "    \n",
    "Once one of these files is found, ArviZ stops looking and loads its configuration. If none of them are present, the values hardcoded in ArviZ codebase are used. The file used to set the default values in ArviZ can be obtained with the following command:"
   ]
  },
  {
   "cell_type": "code",
   "execution_count": 1,
   "metadata": {},
   "outputs": [
    {
     "name": "stdout",
     "output_type": "stream",
     "text": [
      "/home/oriol/.config/arviz/arvizrc\n"
     ]
    }
   ],
   "source": [
    "import arviz as az\n",
    "print(az.rcparams.get_arviz_rcfile())"
   ]
  },
  {
   "cell_type": "markdown",
   "metadata": {},
   "source": [
    "ArviZ has loaded a file used to set defaults on a per user basis. Unless I use a different rc file in the current directory or modify `rcParams` as explained above, this configuration will be automatically used every time ArviZ is imported. This can be really useful to define the favourite backend or information criterion, written once in the rc file and ArviZ automatically uses the desired values."
   ]
  },
  {
   "cell_type": "markdown",
   "metadata": {},
   "source": [
    "## Dynamic rc settings\n",
    "To set default values on a per file or per project basis, `rcParams` can also be modified dynamically, either overwritting a specific key:"
   ]
  },
  {
   "cell_type": "code",
   "execution_count": 2,
   "metadata": {},
   "outputs": [],
   "source": [
    "az.rcParams[\"data.load\"] = \"eager\""
   ]
  },
  {
   "cell_type": "markdown",
   "metadata": {},
   "source": [
    "Note that `rcParams` is the instance to be modified, exactly like in matplotlib. \n",
    "\n",
    "Another option is to define a dictionary with several new defaults and update rcParams all at once. "
   ]
  },
  {
   "cell_type": "code",
   "execution_count": 3,
   "metadata": {},
   "outputs": [],
   "source": [
    "rc = {\n",
    "    \"data.load\": \"lazy\",\n",
    "    \"plot.max_subplots\": 30,\n",
    "    \"stats.ic_scale\": \"negative_log\",\n",
    "    \"plot.matplotlib.constrained_layout\": False\n",
    "}\n",
    "az.rcParams.update(rc)"
   ]
  },
  {
   "cell_type": "markdown",
   "metadata": {},
   "source": [
    "## rc_context\n",
    "Eventually, to temporarily use a different set of defaults, ArviZ also has a [`rc_context`](https://arviz-devs.github.io/arviz/generated/arviz.rc_context.html#arviz.rc_context) function. Its main difference and advantage is that it is a context manager, therefore, all code executed inside the context will use the defaults defined by `rc_context` but once we exit the context, everything goes back to normal."
   ]
  },
  {
   "cell_type": "code",
   "execution_count": 4,
   "metadata": {},
   "outputs": [
    {
     "name": "stdout",
     "output_type": "stream",
     "text": [
      "           mean     sd  hpd_3%  hpd_97%\n",
      "theta[0]  6.026  5.782  -3.707   17.337\n",
      "theta[1]  4.724  4.736  -4.039   13.999\n",
      "theta[2]  3.576  5.559  -6.779   13.838\n",
      "theta[3]  4.478  4.939  -5.528   13.392\n",
      "theta[4]  3.064  4.642  -5.972   11.547\n",
      "theta[5]  3.821  4.979  -5.507   13.232\n",
      "theta[6]  6.250  5.436  -3.412   16.920\n",
      "theta[7]  4.544  5.521  -5.665   15.266\n",
      "           mean     sd  hpd_3%  hpd_97%\n",
      "theta[1]  6.026  5.782  -3.707   17.337\n",
      "theta[2]  4.724  4.736  -4.039   13.999\n",
      "theta[3]  3.576  5.559  -6.779   13.838\n",
      "theta[4]  4.478  4.939  -5.528   13.392\n",
      "theta[5]  3.064  4.642  -5.972   11.547\n",
      "theta[6]  3.821  4.979  -5.507   13.232\n",
      "theta[7]  6.250  5.436  -3.412   16.920\n",
      "theta[8]  4.544  5.521  -5.665   15.266\n",
      "           mean     sd  hpd_3%  hpd_97%\n",
      "theta[0]  6.026  5.782  -3.707   17.337\n",
      "theta[1]  4.724  4.736  -4.039   13.999\n",
      "theta[2]  3.576  5.559  -6.779   13.838\n",
      "theta[3]  4.478  4.939  -5.528   13.392\n",
      "theta[4]  3.064  4.642  -5.972   11.547\n",
      "theta[5]  3.821  4.979  -5.507   13.232\n",
      "theta[6]  6.250  5.436  -3.412   16.920\n",
      "theta[7]  4.544  5.521  -5.665   15.266\n"
     ]
    }
   ],
   "source": [
    "#collapse-hide\n",
    "idata = az.load_arviz_data(\"centered_eight\")\n",
    "print(az.summary(idata, var_names=\"theta\", kind=\"stats\"))\n",
    "with az.rc_context({\"data.index_origin\": 1}):\n",
    "    print(az.summary(idata, var_names=\"theta\", kind=\"stats\"))\n",
    "print(az.summary(idata, var_names=\"theta\", kind=\"stats\"))"
   ]
  },
  {
   "cell_type": "markdown",
   "metadata": {},
   "source": [
    "# ArviZ default settings\n",
    "Here are the default ArviZ settings (also available in [GitHub](https://github.com/arviz-devs/arviz/blob/master/arvizrc.template))"
   ]
  },
  {
   "cell_type": "code",
   "execution_count": 5,
   "metadata": {},
   "outputs": [
    {
     "name": "stdout",
     "output_type": "stream",
     "text": [
      "data.http_protocol    : https\n",
      "data.index_origin     : 0\n",
      "data.load             : lazy\n",
      "data.save_warmup      : False\n",
      "plot.backend          : matplotlib\n",
      "plot.bokeh.bounds_x_range: auto\n",
      "plot.bokeh.bounds_y_range: auto\n",
      "plot.bokeh.figure.dpi : 60\n",
      "plot.bokeh.figure.height: 500\n",
      "plot.bokeh.figure.width: 500\n",
      "plot.bokeh.layout.order: default\n",
      "plot.bokeh.layout.sizing_mode: fixed\n",
      "plot.bokeh.layout.toolbar_location: above\n",
      "plot.bokeh.marker     : Cross\n",
      "plot.bokeh.output_backend: webgl\n",
      "plot.bokeh.show       : True\n",
      "plot.bokeh.tools      : reset,pan,box_zoom,wheel_zoom,lasso_select,undo,save,hover\n",
      "plot.matplotlib.constrained_layout: True\n",
      "plot.matplotlib.show  : False\n",
      "plot.max_subplots     : 40\n",
      "plot.point_estimate   : mean\n",
      "stats.credible_interval: 0.94\n",
      "stats.ic_scale        : log\n",
      "stats.information_criterion: loo\n"
     ]
    }
   ],
   "source": [
    "from arviz.rcparams import RcParams, defaultParams\n",
    "\n",
    "print(RcParams([(key, default) for key, (default, _) in defaultParams.items()]))"
   ]
  },
  {
   "cell_type": "code",
   "execution_count": null,
   "metadata": {},
   "outputs": [],
   "source": []
  }
 ],
 "metadata": {
  "kernelspec": {
   "display_name": "Python 3",
   "language": "python",
   "name": "python3"
  },
  "language_info": {
   "codemirror_mode": {
    "name": "ipython",
    "version": 3
   },
   "file_extension": ".py",
   "mimetype": "text/x-python",
   "name": "python",
   "nbconvert_exporter": "python",
   "pygments_lexer": "ipython3",
   "version": "3.6.9"
  }
 },
 "nbformat": 4,
 "nbformat_minor": 2
}
