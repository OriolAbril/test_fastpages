{
 "cells": [
  {
   "cell_type": "markdown",
   "metadata": {},
   "source": [
    "# \"Introduction to ArviZ: InferenceData objects\"\n",
    "> \"Why should you care about `InferenceData` if `az.xyz(pymc3_trace)` and `az.xyz(pystan_fit)` already work?\"\n",
    "\n",
    "- toc: true \n",
    "- author: Oriol Abril\n",
    "- badges: true\n",
    "- categories: [arviz, InferenceData, data]\n",
    "- image: images/InferenceDataStructure.png\n",
    "\n",
    "Comments are not enabled for the blog, to inquiry further about the contents of the post, ask on [ArviZ Issues](https://github.com/arviz-devs/arviz/issues) or [PyMC Discourse](https://discourse.pymc.io/)"
   ]
  },
  {
   "cell_type": "markdown",
   "metadata": {},
   "source": [
    "# About\n",
    "\n",
    "This notebook is an introduction to `InferenceData` objects and their role in ArviZ. It aims to be as hands-on as possible, using examples to cover different use cases of the data in each group, examples on how to combine several `InferenceData` objects and so on.\n",
    "\n",
    "The key idea behind `InferenceData` objects is to centralize and store all data relevant to a specific Bayesian inference run; from `observed_data` to `predictions` going through `prior` and `sample_stats`. The goal is therefore to both ease exploration and visualization of Bayesian inference results and to ease their sharing. Hence, ArviZ also provides several converter functions to transform results from common inference libraries such as PyMC3, PyStan or Pyro to `InferenceData`. In the future, we'll dedicate one post to each converter function, but before, we have to make sure the conversion process is worth it!\n"
   ]
  }
 ],
 "metadata": {
  "kernelspec": {
   "display_name": "Python 3",
   "language": "python",
   "name": "python3"
  },
  "language_info": {
   "codemirror_mode": {
    "name": "ipython",
    "version": 3
   },
   "file_extension": ".py",
   "mimetype": "text/x-python",
   "name": "python",
   "nbconvert_exporter": "python",
   "pygments_lexer": "ipython3",
   "version": "3.6.9"
  },
  "varInspector": {
   "cols": {
    "lenName": 16,
    "lenType": 16,
    "lenVar": 40
   },
   "kernels_config": {
    "python": {
     "delete_cmd_postfix": "",
     "delete_cmd_prefix": "del ",
     "library": "var_list.py",
     "varRefreshCmd": "print(var_dic_list())"
    },
    "r": {
     "delete_cmd_postfix": ") ",
     "delete_cmd_prefix": "rm(",
     "library": "var_list.r",
     "varRefreshCmd": "cat(var_dic_list()) "
    }
   },
   "types_to_exclude": [
    "module",
    "function",
    "builtin_function_or_method",
    "instance",
    "_Feature"
   ],
   "window_display": false
  }
 },
 "nbformat": 4,
 "nbformat_minor": 4
}
